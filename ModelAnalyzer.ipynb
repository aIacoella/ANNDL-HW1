{
 "cells": [
  {
   "cell_type": "code",
   "execution_count": 1,
   "metadata": {},
   "outputs": [],
   "source": [
    "# Fix randomness and hide warnings\n",
    "seed = 42\n",
    "import os\n",
    "os.environ['TF_CPP_MIN_LOG_LEVEL'] = '3'\n",
    "os.environ['PYTHONHASHSEED'] = str(seed)\n",
    "os.environ['MPLCONFIGDIR'] = os.getcwd()+'/configs/'\n",
    "\n",
    "import warnings\n",
    "warnings.simplefilter(action='ignore', category=FutureWarning)\n",
    "warnings.simplefilter(action='ignore', category=Warning)\n",
    "\n",
    "import numpy as np\n",
    "np.random.seed(seed)\n",
    "\n",
    "import logging\n",
    "\n",
    "import random\n",
    "random.seed(seed)"
   ]
  },
  {
   "cell_type": "code",
   "execution_count": 2,
   "metadata": {},
   "outputs": [
    {
     "name": "stdout",
     "output_type": "stream",
     "text": [
      "2.13.1\n"
     ]
    }
   ],
   "source": [
    "# Import tensorflow\n",
    "import tensorflow as tf\n",
    "from tensorflow import keras as tfk\n",
    "from tensorflow.keras import layers as tfkl\n",
    "tf.autograph.set_verbosity(0)\n",
    "tf.get_logger().setLevel(logging.ERROR)\n",
    "tf.compat.v1.logging.set_verbosity(tf.compat.v1.logging.ERROR)\n",
    "tf.random.set_seed(seed)\n",
    "tf.compat.v1.set_random_seed(seed)\n",
    "print(tf.__version__)"
   ]
  },
  {
   "cell_type": "code",
   "execution_count": 3,
   "metadata": {},
   "outputs": [],
   "source": [
    "# Import other libraries\n",
    "import cv2\n",
    "from tensorflow.keras.applications.mobilenet import preprocess_input\n",
    "import matplotlib.pyplot as plt\n",
    "from sklearn.model_selection import train_test_split\n",
    "from sklearn.metrics import accuracy_score, f1_score, precision_score, recall_score, confusion_matrix\n",
    "import seaborn as sns\n",
    "from DataLoader import load_data"
   ]
  },
  {
   "cell_type": "code",
   "execution_count": 8,
   "metadata": {},
   "outputs": [],
   "source": [
    "(X_train, y_train), (X_test, y_test), (X_val, y_val) = load_data()"
   ]
  },
  {
   "cell_type": "code",
   "execution_count": 35,
   "metadata": {},
   "outputs": [],
   "source": [
    "resizing = tfk.Sequential([\n",
    "    tfkl.experimental.preprocessing.Resizing(224, 224)\n",
    "])"
   ]
  },
  {
   "cell_type": "code",
   "execution_count": 36,
   "metadata": {},
   "outputs": [],
   "source": [
    "\n",
    "model = tfk.models.load_model('SubmissionExample/TransferLearningModel')\n",
    "model.trainable = False"
   ]
  },
  {
   "cell_type": "code",
   "execution_count": 37,
   "metadata": {},
   "outputs": [
    {
     "name": "stdout",
     "output_type": "stream",
     "text": [
      "33/33 [==============================] - 18s 514ms/step\n"
     ]
    },
    {
     "data": {
      "text/plain": [
       "array([[0.09494438, 0.90505564],\n",
       "       [0.0949151 , 0.905085  ],\n",
       "       [0.09484562, 0.9051544 ],\n",
       "       ...,\n",
       "       [0.09494747, 0.90505254],\n",
       "       [0.09494354, 0.9050564 ],\n",
       "       [0.09486429, 0.90513575]], dtype=float32)"
      ]
     },
     "execution_count": 37,
     "metadata": {},
     "output_type": "execute_result"
    }
   ],
   "source": [
    "model.predict(preprocess_input(resizing(X_test)))"
   ]
  },
  {
   "cell_type": "code",
   "execution_count": 10,
   "metadata": {},
   "outputs": [],
   "source": [
    "def showMissPrediction(model, num_images=10):\n",
    "    out = model.predict(preprocess_input(X_test))\n",
    "    y_pred = np.argmax(out, axis=1)\n",
    "    y_true = np.argmax(y_test, axis=1)\n",
    "    miss_pred = np.where(y_pred != y_true)[0]\n",
    "    print(miss_pred)"
   ]
  },
  {
   "cell_type": "code",
   "execution_count": 26,
   "metadata": {},
   "outputs": [
    {
     "name": "stdout",
     "output_type": "stream",
     "text": [
      "7/7 [==============================] - 2s 312ms/step\n"
     ]
    },
    {
     "data": {
      "text/plain": [
       "array([[-0.04580223],\n",
       "       [-0.09770532],\n",
       "       [-0.07261046],\n",
       "       [-0.13447812],\n",
       "       [-0.11646222],\n",
       "       [-0.06671764],\n",
       "       [-0.1267862 ],\n",
       "       [-0.11535212],\n",
       "       [-0.08965063],\n",
       "       [-0.06642179],\n",
       "       [-0.04875492],\n",
       "       [-0.06522365],\n",
       "       [-0.04820774],\n",
       "       [ 0.01081963],\n",
       "       [-0.0323751 ],\n",
       "       [-0.11206326],\n",
       "       [-0.01582155],\n",
       "       [-0.07032545],\n",
       "       [-0.07377435],\n",
       "       [-0.05183094],\n",
       "       [-0.11073135],\n",
       "       [-0.15274765],\n",
       "       [-0.08275875],\n",
       "       [-0.05387294],\n",
       "       [-0.04757437],\n",
       "       [ 0.0051653 ],\n",
       "       [-0.05705236],\n",
       "       [-0.05042174],\n",
       "       [-0.09842686],\n",
       "       [-0.05377844],\n",
       "       [-0.07057802],\n",
       "       [-0.08716007],\n",
       "       [-0.11903672],\n",
       "       [-0.07618716],\n",
       "       [-0.04381264],\n",
       "       [-0.10649589],\n",
       "       [-0.05259449],\n",
       "       [-0.10438083],\n",
       "       [-0.05034457],\n",
       "       [-0.0461692 ],\n",
       "       [-0.02687388],\n",
       "       [-0.04237583],\n",
       "       [ 0.16431215],\n",
       "       [-0.09339371],\n",
       "       [-0.02853063],\n",
       "       [-0.11256686],\n",
       "       [-0.08241576],\n",
       "       [-0.08427493],\n",
       "       [-0.07525367],\n",
       "       [-0.06696196],\n",
       "       [-0.07981712],\n",
       "       [-0.06764552],\n",
       "       [-0.05359311],\n",
       "       [-0.04424615],\n",
       "       [-0.04553672],\n",
       "       [-0.06216898],\n",
       "       [-0.15140446],\n",
       "       [-0.10880789],\n",
       "       [-0.00138272],\n",
       "       [-0.08711769],\n",
       "       [-0.12563673],\n",
       "       [-0.04219206],\n",
       "       [-0.08983885],\n",
       "       [-0.06253727],\n",
       "       [-0.1325875 ],\n",
       "       [-0.08911644],\n",
       "       [-0.05157955],\n",
       "       [-0.054635  ],\n",
       "       [-0.13450985],\n",
       "       [-0.02938947],\n",
       "       [-0.06452747],\n",
       "       [-0.12526043],\n",
       "       [-0.03579556],\n",
       "       [ 0.16431215],\n",
       "       [-0.07083598],\n",
       "       [-0.12577084],\n",
       "       [-0.0595979 ],\n",
       "       [-0.06610414],\n",
       "       [-0.08508526],\n",
       "       [-0.07237713],\n",
       "       [-0.11988567],\n",
       "       [-0.09374577],\n",
       "       [-0.08076869],\n",
       "       [-0.13849877],\n",
       "       [-0.07539664],\n",
       "       [-0.16004024],\n",
       "       [-0.03358717],\n",
       "       [-0.1430992 ],\n",
       "       [-0.07477528],\n",
       "       [-0.09842347],\n",
       "       [-0.02782923],\n",
       "       [-0.11725461],\n",
       "       [-0.03603346],\n",
       "       [-0.07521553],\n",
       "       [-0.06982615],\n",
       "       [-0.05003659],\n",
       "       [-0.12585388],\n",
       "       [-0.05379313],\n",
       "       [-0.06637293],\n",
       "       [ 0.00959985],\n",
       "       [-0.10625817],\n",
       "       [-0.10483024],\n",
       "       [-0.05935948],\n",
       "       [-0.09392452],\n",
       "       [ 0.00511975],\n",
       "       [-0.10550386],\n",
       "       [-0.06294404],\n",
       "       [-0.15400144],\n",
       "       [-0.05521611],\n",
       "       [-0.06191965],\n",
       "       [ 0.023236  ],\n",
       "       [-0.08720978],\n",
       "       [-0.0618877 ],\n",
       "       [-0.02758599],\n",
       "       [-0.07078164],\n",
       "       [-0.15001641],\n",
       "       [-0.14022355],\n",
       "       [-0.07834869],\n",
       "       [-0.04063571],\n",
       "       [-0.0529686 ],\n",
       "       [-0.07849932],\n",
       "       [-0.09070408],\n",
       "       [-0.07440563],\n",
       "       [ 0.00853354],\n",
       "       [-0.11113544],\n",
       "       [-0.07174414],\n",
       "       [-0.07777224],\n",
       "       [-0.06809013],\n",
       "       [-0.18359487],\n",
       "       [-0.11730038],\n",
       "       [-0.12132116],\n",
       "       [ 0.16431215],\n",
       "       [-0.08772123],\n",
       "       [-0.0604584 ],\n",
       "       [-0.1495156 ],\n",
       "       [-0.06414443],\n",
       "       [-0.11037146],\n",
       "       [-0.1003767 ],\n",
       "       [-0.11506687],\n",
       "       [-0.04911371],\n",
       "       [-0.04073377],\n",
       "       [ 0.16431215],\n",
       "       [-0.04751746],\n",
       "       [-0.11232263],\n",
       "       [-0.07769638],\n",
       "       [-0.12271793],\n",
       "       [-0.07520541],\n",
       "       [-0.0944653 ],\n",
       "       [-0.0323619 ],\n",
       "       [-0.12279816],\n",
       "       [-0.05632022],\n",
       "       [-0.06386827],\n",
       "       [-0.04648166],\n",
       "       [-0.04062838],\n",
       "       [-0.0680702 ],\n",
       "       [-0.0189784 ],\n",
       "       [-0.05828091],\n",
       "       [-0.1094142 ],\n",
       "       [-0.07033609],\n",
       "       [-0.06790316],\n",
       "       [-0.07167973],\n",
       "       [-0.09497623],\n",
       "       [-0.0944784 ],\n",
       "       [ 0.16431215],\n",
       "       [-0.06455335],\n",
       "       [-0.07056935],\n",
       "       [-0.09528314],\n",
       "       [-0.01374774],\n",
       "       [-0.07175898],\n",
       "       [-0.04851681],\n",
       "       [-0.07406689],\n",
       "       [-0.10268745],\n",
       "       [ 0.01581476],\n",
       "       [-0.0632991 ],\n",
       "       [-0.00375902],\n",
       "       [-0.08511181],\n",
       "       [-0.00762755],\n",
       "       [-0.12694648],\n",
       "       [-0.06418872],\n",
       "       [-0.23001026],\n",
       "       [-0.09946546],\n",
       "       [-0.14592458],\n",
       "       [-0.08339614],\n",
       "       [-0.0981544 ],\n",
       "       [-0.13072185],\n",
       "       [-0.13644691],\n",
       "       [-0.15079671],\n",
       "       [-0.1117516 ],\n",
       "       [-0.07443126],\n",
       "       [-0.08530354],\n",
       "       [-0.15634479],\n",
       "       [-0.05535495],\n",
       "       [-0.10903709],\n",
       "       [-0.10126477],\n",
       "       [-0.12616353],\n",
       "       [-0.07690886],\n",
       "       [-0.04758745],\n",
       "       [-0.04932399],\n",
       "       [-0.08723065],\n",
       "       [-0.07025852]], dtype=float32)"
      ]
     },
     "execution_count": 26,
     "metadata": {},
     "output_type": "execute_result"
    }
   ],
   "source": [
    "out = model.predict(preprocess_input(np.array(X_test[0:200])))\n",
    "out"
   ]
  },
  {
   "cell_type": "code",
   "execution_count": 31,
   "metadata": {},
   "outputs": [
    {
     "data": {
      "text/plain": [
       "<function keras.src.activations.linear(x)>"
      ]
     },
     "execution_count": 31,
     "metadata": {},
     "output_type": "execute_result"
    }
   ],
   "source": [
    "model.get_layer('dense').activation"
   ]
  },
  {
   "cell_type": "code",
   "execution_count": null,
   "metadata": {},
   "outputs": [],
   "source": []
  }
 ],
 "metadata": {
  "kernelspec": {
   "display_name": "ml",
   "language": "python",
   "name": "python3"
  },
  "language_info": {
   "codemirror_mode": {
    "name": "ipython",
    "version": 3
   },
   "file_extension": ".py",
   "mimetype": "text/x-python",
   "name": "python",
   "nbconvert_exporter": "python",
   "pygments_lexer": "ipython3",
   "version": "3.8.18"
  }
 },
 "nbformat": 4,
 "nbformat_minor": 2
}
